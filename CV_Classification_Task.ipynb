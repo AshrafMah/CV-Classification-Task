{
  "nbformat": 4,
  "nbformat_minor": 0,
  "metadata": {
    "colab": {
      "provenance": [],
      "gpuType": "T4",
      "authorship_tag": "ABX9TyPbZkiwYlhOlMP52APnKST7",
      "include_colab_link": true
    },
    "kernelspec": {
      "name": "python3",
      "display_name": "Python 3"
    },
    "language_info": {
      "name": "python"
    },
    "accelerator": "GPU"
  },
  "cells": [
    {
      "cell_type": "markdown",
      "metadata": {
        "id": "view-in-github",
        "colab_type": "text"
      },
      "source": [
        "<a href=\"https://colab.research.google.com/github/AshrafMah/CV-Classification-Task/blob/main/CV_Classification_Task.ipynb\" target=\"_parent\"><img src=\"https://colab.research.google.com/assets/colab-badge.svg\" alt=\"Open In Colab\"/></a>"
      ]
    },
    {
      "cell_type": "code",
      "execution_count": 17,
      "metadata": {
        "id": "fql48Rl319hb"
      },
      "outputs": [],
      "source": [
        "import torch  # PyTorch packge\n",
        "from torch.utils.data import Dataset, DataLoader\n",
        "from torchvision import datasets  # load datasets\n",
        "from torchvision.transforms import ToTensor, transforms # transform data\n",
        "import torch.nn as nn   # basic building block for neural network\n",
        "import torch.nn.functional as F # import convolution functions like Relu\n",
        "import torch.optim as optim   # optimizer like SGD\n",
        "import matplotlib.pyplot as plt # for pltting"
      ]
    },
    {
      "cell_type": "code",
      "source": [
        "train = datasets.FashionMNIST(\n",
        "    root=\"data\",\n",
        "    train=True,\n",
        "    download=True,\n",
        "    transform=ToTensor() # to tensor object\n",
        ")\n",
        "\n",
        "test = datasets.FashionMNIST(\n",
        "    root=\"data\",\n",
        "    train=False,\n",
        "    download=True,\n",
        "    transform=ToTensor()\n",
        ")"
      ],
      "metadata": {
        "id": "aRt8dz372T44",
        "colab": {
          "base_uri": "https://localhost:8080/"
        },
        "outputId": "6491a4e2-2b5a-40c6-a001-bff7d6a97664"
      },
      "execution_count": 2,
      "outputs": [
        {
          "output_type": "stream",
          "name": "stdout",
          "text": [
            "Downloading http://fashion-mnist.s3-website.eu-central-1.amazonaws.com/train-images-idx3-ubyte.gz\n",
            "Downloading http://fashion-mnist.s3-website.eu-central-1.amazonaws.com/train-images-idx3-ubyte.gz to data/FashionMNIST/raw/train-images-idx3-ubyte.gz\n"
          ]
        },
        {
          "output_type": "stream",
          "name": "stderr",
          "text": [
            "100%|██████████| 26421880/26421880 [00:11<00:00, 2271976.07it/s]\n"
          ]
        },
        {
          "output_type": "stream",
          "name": "stdout",
          "text": [
            "Extracting data/FashionMNIST/raw/train-images-idx3-ubyte.gz to data/FashionMNIST/raw\n",
            "\n",
            "Downloading http://fashion-mnist.s3-website.eu-central-1.amazonaws.com/train-labels-idx1-ubyte.gz\n",
            "Downloading http://fashion-mnist.s3-website.eu-central-1.amazonaws.com/train-labels-idx1-ubyte.gz to data/FashionMNIST/raw/train-labels-idx1-ubyte.gz\n"
          ]
        },
        {
          "output_type": "stream",
          "name": "stderr",
          "text": [
            "100%|██████████| 29515/29515 [00:00<00:00, 136771.34it/s]\n"
          ]
        },
        {
          "output_type": "stream",
          "name": "stdout",
          "text": [
            "Extracting data/FashionMNIST/raw/train-labels-idx1-ubyte.gz to data/FashionMNIST/raw\n",
            "\n",
            "Downloading http://fashion-mnist.s3-website.eu-central-1.amazonaws.com/t10k-images-idx3-ubyte.gz\n",
            "Downloading http://fashion-mnist.s3-website.eu-central-1.amazonaws.com/t10k-images-idx3-ubyte.gz to data/FashionMNIST/raw/t10k-images-idx3-ubyte.gz\n"
          ]
        },
        {
          "output_type": "stream",
          "name": "stderr",
          "text": [
            "100%|██████████| 4422102/4422102 [00:01<00:00, 2746805.62it/s]\n"
          ]
        },
        {
          "output_type": "stream",
          "name": "stdout",
          "text": [
            "Extracting data/FashionMNIST/raw/t10k-images-idx3-ubyte.gz to data/FashionMNIST/raw\n",
            "\n",
            "Downloading http://fashion-mnist.s3-website.eu-central-1.amazonaws.com/t10k-labels-idx1-ubyte.gz\n",
            "Downloading http://fashion-mnist.s3-website.eu-central-1.amazonaws.com/t10k-labels-idx1-ubyte.gz to data/FashionMNIST/raw/t10k-labels-idx1-ubyte.gz\n"
          ]
        },
        {
          "output_type": "stream",
          "name": "stderr",
          "text": [
            "100%|██████████| 5148/5148 [00:00<00:00, 5639142.59it/s]"
          ]
        },
        {
          "output_type": "stream",
          "name": "stdout",
          "text": [
            "Extracting data/FashionMNIST/raw/t10k-labels-idx1-ubyte.gz to data/FashionMNIST/raw\n",
            "\n"
          ]
        },
        {
          "output_type": "stream",
          "name": "stderr",
          "text": [
            "\n"
          ]
        }
      ]
    },
    {
      "cell_type": "code",
      "source": [
        "class_names = train.classes\n",
        "class_names"
      ],
      "metadata": {
        "colab": {
          "base_uri": "https://localhost:8080/"
        },
        "id": "sbpm6q9nsMCY",
        "outputId": "7cfd9c87-823b-4ff6-94f0-0e1c9cf4e2c4"
      },
      "execution_count": 15,
      "outputs": [
        {
          "output_type": "execute_result",
          "data": {
            "text/plain": [
              "['T-shirt/top',\n",
              " 'Trouser',\n",
              " 'Pullover',\n",
              " 'Dress',\n",
              " 'Coat',\n",
              " 'Sandal',\n",
              " 'Shirt',\n",
              " 'Sneaker',\n",
              " 'Bag',\n",
              " 'Ankle boot']"
            ]
          },
          "metadata": {},
          "execution_count": 15
        }
      ]
    },
    {
      "cell_type": "code",
      "source": [],
      "metadata": {
        "id": "HKeem3E4sYaD"
      },
      "execution_count": null,
      "outputs": []
    },
    {
      "cell_type": "code",
      "source": [
        "# 10 classes\n",
        "labels_map = {\n",
        "    0: \"T-Shirt\",\n",
        "    1: \"Trouser\",\n",
        "    2: \"Pullover\",\n",
        "    3: \"Dress\",\n",
        "    4: \"Coat\",\n",
        "    5: \"Sandal\",\n",
        "    6: \"Shirt\",\n",
        "    7: \"Sneaker\",\n",
        "    8: \"Bag\",\n",
        "    9: \"Ankle Boot\",\n",
        "}\n",
        "\n",
        "figure = plt.figure(figsize=(8,8))\n",
        "cols, rows = 3, 3\n",
        "for i in range(1, cols * rows +1):\n",
        "  sample_index = torch.randint(len(train), size=(1,)).item()\n",
        "  img, label = train[sample_index]\n",
        "  figure.add_subplot(rows, cols, i)\n",
        "  plt.title(labels_map[label])\n",
        "  plt.axis(\"off\")\n",
        "  plt.imshow(img.squeeze(), cmap=\"gray\")\n",
        "plt.show()"
      ],
      "metadata": {
        "colab": {
          "base_uri": "https://localhost:8080/",
          "height": 675
        },
        "id": "iLsA2Bl7OSLg",
        "outputId": "11827d16-c9ae-433c-cc6a-289a1b0a2a3f"
      },
      "execution_count": 3,
      "outputs": [
        {
          "output_type": "display_data",
          "data": {
            "text/plain": [
              "<Figure size 800x800 with 9 Axes>"
            ],
            "image/png": "[encoded data removed]"
          },
          "metadata": {}
        }
      ]
    },
    {
      "cell_type": "code",
      "source": [
        "# Calculate mean and std\n",
        "imgs = torch.stack([img for img, _ in train], dim=0)\n",
        "\n",
        "mean = imgs.view(1, -1).mean(dim=1)    # or imgs.mean()\n",
        "std = imgs.view(1, -1).std(dim=1)     # or imgs.std()\n",
        "mean, std"
      ],
      "metadata": {
        "colab": {
          "base_uri": "https://localhost:8080/"
        },
        "id": "7rwnezTLt2Vx",
        "outputId": "954ac063-f794-481e-8527-63c642e4940f"
      },
      "execution_count": 18,
      "outputs": [
        {
          "output_type": "execute_result",
          "data": {
            "text/plain": [
              "(tensor([0.2860]), tensor([0.3530]))"
            ]
          },
          "metadata": {},
          "execution_count": 18
        }
      ]
    },
    {
      "cell_type": "code",
      "source": [],
      "metadata": {
        "id": "yF8u21xUuQry"
      },
      "execution_count": null,
      "outputs": []
    },
    {
      "cell_type": "code",
      "source": [
        "transform = transforms.Compose([transforms.ToTensor(),\n",
        "                                transforms.Normalize(mean=mean, std=std)])\n",
        "\n",
        "train = datasets.FashionMNIST(\n",
        "    root=\"data\",\n",
        "    train=True,\n",
        "    download=True,\n",
        "    transform=transform # to tensor object\n",
        ")\n",
        "\n",
        "test = datasets.FashionMNIST(\n",
        "    root=\"data\",\n",
        "    train=False,\n",
        "    download=True,\n",
        "    transform=transform\n",
        ")\n"
      ],
      "metadata": {
        "id": "E4ONzAHOt8Ie"
      },
      "execution_count": 19,
      "outputs": []
    },
    {
      "cell_type": "code",
      "source": [
        "train_size = int(0.9* len(train))\n",
        "val_size = len(train) - train_size\n",
        "\n",
        "train, validation = torch.utils.data.random_split(dataset=train, lengths=[train_size, val_size])\n",
        "len(train), len(validation), len(test)"
      ],
      "metadata": {
        "colab": {
          "base_uri": "https://localhost:8080/"
        },
        "id": "ln4EO5Bcuse5",
        "outputId": "aff5c4e6-1f49-4ae0-9859-67d9d747709e"
      },
      "execution_count": 23,
      "outputs": [
        {
          "output_type": "execute_result",
          "data": {
            "text/plain": [
              "(54000, 6000, 10000)"
            ]
          },
          "metadata": {},
          "execution_count": 23
        }
      ]
    },
    {
      "cell_type": "code",
      "source": [
        "BATCH_SIZE = 32\n",
        "NUM_WORKERS = 2\n",
        "\n",
        "train_loader = DataLoader(train, batch_size=BATCH_SIZE, shuffle=True, num_workers=NUM_WORKERS)\n",
        "val_loader = DataLoader(validation, batch_size=BATCH_SIZE, shuffle=True, num_workers=NUM_WORKERS)\n",
        "test_loader = DataLoader(test, batch_size=BATCH_SIZE, shuffle=True, num_workers=NUM_WORKERS)\n",
        "\n",
        "# Let's see no of batches that we have now with the current batch-size\n",
        "len(train_loader), len(val_loader), len(test_loader)"
      ],
      "metadata": {
        "id": "gPTKBkJ02Tz1",
        "colab": {
          "base_uri": "https://localhost:8080/"
        },
        "outputId": "d0075528-7536-4d48-fb1f-1f02a9310567"
      },
      "execution_count": 25,
      "outputs": [
        {
          "output_type": "execute_result",
          "data": {
            "text/plain": [
              "(1688, 188, 313)"
            ]
          },
          "metadata": {},
          "execution_count": 25
        }
      ]
    },
    {
      "cell_type": "code",
      "source": [
        "# Display image and label.\n",
        "train_features, train_labels = next(iter(train_loader))\n",
        "print(f\"Feature batch shape: {train_features.size()}\")\n",
        "print(f\"Labels batch shape: {train_labels.size()}\")\n",
        "img = train_features[0].squeeze()\n",
        "label = train_labels[0]\n",
        "plt.imshow(img, cmap=\"gray\")\n",
        "plt.show()\n",
        "print(f\"Label: {label}\")"
      ],
      "metadata": {
        "id": "wY7AN3Rf2TxI",
        "colab": {
          "base_uri": "https://localhost:8080/",
          "height": 539
        },
        "outputId": "c935c651-30ba-47a4-dd81-e5465a2ca915"
      },
      "execution_count": 21,
      "outputs": [
        {
          "output_type": "stream",
          "name": "stderr",
          "text": [
            "/usr/lib/python3.10/multiprocessing/popen_fork.py:66: RuntimeWarning: os.fork() was called. os.fork() is incompatible with multithreaded code, and JAX is multithreaded, so this will likely lead to a deadlock.\n",
            "  self.pid = os.fork()\n"
          ]
        },
        {
          "output_type": "stream",
          "name": "stdout",
          "text": [
            "Feature batch shape: torch.Size([64, 1, 28, 28])\n",
            "Labels batch shape: torch.Size([64])\n"
          ]
        },
        {
          "output_type": "display_data",
          "data": {
            "text/plain": [
              "<Figure size 640x480 with 1 Axes>"
            ],
            "image/png": "[encoded data removed]"
          },
          "metadata": {}
        },
        {
          "output_type": "stream",
          "name": "stdout",
          "text": [
            "Label: 9\n"
          ]
        }
      ]
    },
    {
      "cell_type": "markdown",
      "source": [
        "# II - Build LeNet-5 architecture![LeNet-5 architecture.webp](data:image/webp;base64,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)"
      ],
      "metadata": {
        "id": "vmqSjWTawy3P"
      }
    },
    {
      "cell_type": "markdown",
      "source": [
        "[LeNet-5 architecture](http://yann.lecun.com/exdb/publis/pdf/lecun-01a.pdf)\n"
      ],
      "metadata": {
        "id": "0HprWLoCxLuv"
      }
    },
    {
      "cell_type": "code",
      "source": [
        "class LeNet5(nn.Module):\n",
        "  '''\n",
        "  Models LeNet5\n",
        "  '''\n",
        "  def __init__(self):\n",
        "    super(LeNet5, self).__init__()\n",
        ""
      ],
      "metadata": {
        "id": "Z49WECvnw_M0"
      },
      "execution_count": null,
      "outputs": []
    },
    {
      "cell_type": "code",
      "source": [
        "# class Net(nn.Module):\n",
        "#   '''\n",
        "#   Models a simple Convlutional Neural Network\n",
        "#   '''\n",
        "#   def __init__(self) -> None:\n",
        "#     super(Net, self).__init__()\n",
        "#     self.conv1 = nn.Conv2d(1, 6, 5)\n",
        "#     self.pool = nn.MaxPool2d(2, 2)\n",
        "#     self.conv2 = nn.Conv2d(6, 16, 5)\n",
        "#     self.fc1 = nn.Linear(16*28*28, 120)\n",
        "#     self.fc2 = nn.Linear(120, 84)\n",
        "#     self.fc3 = nn.Linear(84, 10)\n",
        "\n",
        "#   def forward(self, x):\n",
        "#     '''\n",
        "#     the forward propagation algorithm\n",
        "#     '''\n",
        "#     x = self.pool(F.relu(self.conv1(x)))\n",
        "#     x = self.pool(F.relu(self.conv2(x)))\n",
        "#     # x = x.view(-1, 16*28*28)\n",
        "#     x.flatten(1)\n",
        "#     x = F.relu(self.fc1(x))\n",
        "#     x = F.relu(self.fc2(x))\n",
        "#     x = self.fc3(x)\n",
        "#     return x\n",
        "\n",
        "# net = Net()\n",
        "# print(net)"
      ],
      "metadata": {
        "id": "sf_MDXAX2Tum",
        "colab": {
          "base_uri": "https://localhost:8080/"
        },
        "outputId": "a2075569-8dd4-4fb8-f731-9a509336cf41"
      },
      "execution_count": 12,
      "outputs": [
        {
          "output_type": "stream",
          "name": "stdout",
          "text": [
            "Net(\n",
            "  (conv1): Conv2d(1, 6, kernel_size=(5, 5), stride=(1, 1))\n",
            "  (pool): MaxPool2d(kernel_size=2, stride=2, padding=0, dilation=1, ceil_mode=False)\n",
            "  (conv2): Conv2d(6, 16, kernel_size=(5, 5), stride=(1, 1))\n",
            "  (fc1): Linear(in_features=12544, out_features=120, bias=True)\n",
            "  (fc2): Linear(in_features=120, out_features=84, bias=True)\n",
            "  (fc3): Linear(in_features=84, out_features=10, bias=True)\n",
            ")\n"
          ]
        }
      ]
    },
    {
      "cell_type": "markdown",
      "source": [
        "`input -> conv2d -> relu -> maxpool2d -> conv2d -> relu -> maxpool2d -> view -> linear -> relu -> linear -> relu -> linear`"
      ],
      "metadata": {
        "id": "gGgxnyrinDly"
      }
    },
    {
      "cell_type": "code",
      "source": [
        "criterion = nn.CrossEntropyLoss()\n",
        "optimizer = optim.SGD(net.parameters(), lr=0.001, momentum=0.9)"
      ],
      "metadata": {
        "id": "1MYxn8j-mJfp"
      },
      "execution_count": 7,
      "outputs": []
    },
    {
      "cell_type": "code",
      "source": [
        "start = torch.cuda.Event(enable_timing=True)\n",
        "end = torch.cuda.Event(enable_timing=True)\n",
        "\n",
        "start.record()\n",
        "\n",
        "for epoch in range(2):  # loop over the dataset multiple times\n",
        "\n",
        "    running_loss = 0.0\n",
        "    for i, data in enumerate(train_loader, 0):\n",
        "        # get the inputs; data is a list of [inputs, labels]\n",
        "        inputs, labels = data\n",
        "\n",
        "        # zero the parameter gradients\n",
        "        optimizer.zero_grad()\n",
        "\n",
        "        # forward + backward + optimize\n",
        "        outputs = net(inputs)\n",
        "        loss = criterion(outputs, labels)\n",
        "        loss.backward()\n",
        "        optimizer.step()\n",
        "\n",
        "        # print statistics\n",
        "        running_loss += loss.item()\n",
        "        if i % 2000 == 1999:    # print every 2000 mini-batches\n",
        "            print('[%d, %5d] loss: %.3f' %\n",
        "                  (epoch + 1, i + 1, running_loss / 2000))\n",
        "            running_loss = 0.0\n",
        "\n",
        "# whatever you are timing goes here\n",
        "end.record()"
      ],
      "metadata": {
        "colab": {
          "base_uri": "https://localhost:8080/",
          "height": 365
        },
        "id": "lbc6Y9nYo59N",
        "outputId": "785383bc-74e2-4a56-e190-884143cb1e65"
      },
      "execution_count": 13,
      "outputs": [
        {
          "output_type": "error",
          "ename": "RuntimeError",
          "evalue": "mat1 and mat2 shapes cannot be multiplied (4096x4 and 12544x120)",
          "traceback": [
            "\u001b[0;31m---------------------------------------------------------------------------\u001b[0m",
            "\u001b[0;31mRuntimeError\u001b[0m                              Traceback (most recent call last)",
            "\u001b[0;32m<ipython-input-13-67d844212284>\u001b[0m in \u001b[0;36m<cell line: 6>\u001b[0;34m()\u001b[0m\n\u001b[1;32m     15\u001b[0m \u001b[0;34m\u001b[0m\u001b[0m\n\u001b[1;32m     16\u001b[0m         \u001b[0;31m# forward + backward + optimize\u001b[0m\u001b[0;34m\u001b[0m\u001b[0;34m\u001b[0m\u001b[0m\n\u001b[0;32m---> 17\u001b[0;31m         \u001b[0moutputs\u001b[0m \u001b[0;34m=\u001b[0m \u001b[0mnet\u001b[0m\u001b[0;34m(\u001b[0m\u001b[0minputs\u001b[0m\u001b[0;34m)\u001b[0m\u001b[0;34m\u001b[0m\u001b[0;34m\u001b[0m\u001b[0m\n\u001b[0m\u001b[1;32m     18\u001b[0m         \u001b[0mloss\u001b[0m \u001b[0;34m=\u001b[0m \u001b[0mcriterion\u001b[0m\u001b[0;34m(\u001b[0m\u001b[0moutputs\u001b[0m\u001b[0;34m,\u001b[0m \u001b[0mlabels\u001b[0m\u001b[0;34m)\u001b[0m\u001b[0;34m\u001b[0m\u001b[0;34m\u001b[0m\u001b[0m\n\u001b[1;32m     19\u001b[0m         \u001b[0mloss\u001b[0m\u001b[0;34m.\u001b[0m\u001b[0mbackward\u001b[0m\u001b[0;34m(\u001b[0m\u001b[0;34m)\u001b[0m\u001b[0;34m\u001b[0m\u001b[0;34m\u001b[0m\u001b[0m\n",
            "\u001b[0;32m/usr/local/lib/python3.10/dist-packages/torch/nn/modules/module.py\u001b[0m in \u001b[0;36m_wrapped_call_impl\u001b[0;34m(self, *args, **kwargs)\u001b[0m\n\u001b[1;32m   1509\u001b[0m             \u001b[0;32mreturn\u001b[0m \u001b[0mself\u001b[0m\u001b[0;34m.\u001b[0m\u001b[0m_compiled_call_impl\u001b[0m\u001b[0;34m(\u001b[0m\u001b[0;34m*\u001b[0m\u001b[0margs\u001b[0m\u001b[0;34m,\u001b[0m \u001b[0;34m**\u001b[0m\u001b[0mkwargs\u001b[0m\u001b[0;34m)\u001b[0m  \u001b[0;31m# type: ignore[misc]\u001b[0m\u001b[0;34m\u001b[0m\u001b[0;34m\u001b[0m\u001b[0m\n\u001b[1;32m   1510\u001b[0m         \u001b[0;32melse\u001b[0m\u001b[0;34m:\u001b[0m\u001b[0;34m\u001b[0m\u001b[0;34m\u001b[0m\u001b[0m\n\u001b[0;32m-> 1511\u001b[0;31m             \u001b[0;32mreturn\u001b[0m \u001b[0mself\u001b[0m\u001b[0;34m.\u001b[0m\u001b[0m_call_impl\u001b[0m\u001b[0;34m(\u001b[0m\u001b[0;34m*\u001b[0m\u001b[0margs\u001b[0m\u001b[0;34m,\u001b[0m \u001b[0;34m**\u001b[0m\u001b[0mkwargs\u001b[0m\u001b[0;34m)\u001b[0m\u001b[0;34m\u001b[0m\u001b[0;34m\u001b[0m\u001b[0m\n\u001b[0m\u001b[1;32m   1512\u001b[0m \u001b[0;34m\u001b[0m\u001b[0m\n\u001b[1;32m   1513\u001b[0m     \u001b[0;32mdef\u001b[0m \u001b[0m_call_impl\u001b[0m\u001b[0;34m(\u001b[0m\u001b[0mself\u001b[0m\u001b[0;34m,\u001b[0m \u001b[0;34m*\u001b[0m\u001b[0margs\u001b[0m\u001b[0;34m,\u001b[0m \u001b[0;34m**\u001b[0m\u001b[0mkwargs\u001b[0m\u001b[0;34m)\u001b[0m\u001b[0;34m:\u001b[0m\u001b[0;34m\u001b[0m\u001b[0;34m\u001b[0m\u001b[0m\n",
            "\u001b[0;32m/usr/local/lib/python3.10/dist-packages/torch/nn/modules/module.py\u001b[0m in \u001b[0;36m_call_impl\u001b[0;34m(self, *args, **kwargs)\u001b[0m\n\u001b[1;32m   1518\u001b[0m                 \u001b[0;32mor\u001b[0m \u001b[0m_global_backward_pre_hooks\u001b[0m \u001b[0;32mor\u001b[0m \u001b[0m_global_backward_hooks\u001b[0m\u001b[0;34m\u001b[0m\u001b[0;34m\u001b[0m\u001b[0m\n\u001b[1;32m   1519\u001b[0m                 or _global_forward_hooks or _global_forward_pre_hooks):\n\u001b[0;32m-> 1520\u001b[0;31m             \u001b[0;32mreturn\u001b[0m \u001b[0mforward_call\u001b[0m\u001b[0;34m(\u001b[0m\u001b[0;34m*\u001b[0m\u001b[0margs\u001b[0m\u001b[0;34m,\u001b[0m \u001b[0;34m**\u001b[0m\u001b[0mkwargs\u001b[0m\u001b[0;34m)\u001b[0m\u001b[0;34m\u001b[0m\u001b[0;34m\u001b[0m\u001b[0m\n\u001b[0m\u001b[1;32m   1521\u001b[0m \u001b[0;34m\u001b[0m\u001b[0m\n\u001b[1;32m   1522\u001b[0m         \u001b[0;32mtry\u001b[0m\u001b[0;34m:\u001b[0m\u001b[0;34m\u001b[0m\u001b[0;34m\u001b[0m\u001b[0m\n",
            "\u001b[0;32m<ipython-input-12-871676b79671>\u001b[0m in \u001b[0;36mforward\u001b[0;34m(self, x)\u001b[0m\n\u001b[1;32m     20\u001b[0m     \u001b[0;31m# x = x.view(-1, 16*28*28)\u001b[0m\u001b[0;34m\u001b[0m\u001b[0;34m\u001b[0m\u001b[0m\n\u001b[1;32m     21\u001b[0m     \u001b[0mx\u001b[0m\u001b[0;34m.\u001b[0m\u001b[0mflatten\u001b[0m\u001b[0;34m(\u001b[0m\u001b[0;36m1\u001b[0m\u001b[0;34m)\u001b[0m\u001b[0;34m\u001b[0m\u001b[0;34m\u001b[0m\u001b[0m\n\u001b[0;32m---> 22\u001b[0;31m     \u001b[0mx\u001b[0m \u001b[0;34m=\u001b[0m \u001b[0mF\u001b[0m\u001b[0;34m.\u001b[0m\u001b[0mrelu\u001b[0m\u001b[0;34m(\u001b[0m\u001b[0mself\u001b[0m\u001b[0;34m.\u001b[0m\u001b[0mfc1\u001b[0m\u001b[0;34m(\u001b[0m\u001b[0mx\u001b[0m\u001b[0;34m)\u001b[0m\u001b[0;34m)\u001b[0m\u001b[0;34m\u001b[0m\u001b[0;34m\u001b[0m\u001b[0m\n\u001b[0m\u001b[1;32m     23\u001b[0m     \u001b[0mx\u001b[0m \u001b[0;34m=\u001b[0m \u001b[0mF\u001b[0m\u001b[0;34m.\u001b[0m\u001b[0mrelu\u001b[0m\u001b[0;34m(\u001b[0m\u001b[0mself\u001b[0m\u001b[0;34m.\u001b[0m\u001b[0mfc2\u001b[0m\u001b[0;34m(\u001b[0m\u001b[0mx\u001b[0m\u001b[0;34m)\u001b[0m\u001b[0;34m)\u001b[0m\u001b[0;34m\u001b[0m\u001b[0;34m\u001b[0m\u001b[0m\n\u001b[1;32m     24\u001b[0m     \u001b[0mx\u001b[0m \u001b[0;34m=\u001b[0m \u001b[0mself\u001b[0m\u001b[0;34m.\u001b[0m\u001b[0mfc3\u001b[0m\u001b[0;34m(\u001b[0m\u001b[0mx\u001b[0m\u001b[0;34m)\u001b[0m\u001b[0;34m\u001b[0m\u001b[0;34m\u001b[0m\u001b[0m\n",
            "\u001b[0;32m/usr/local/lib/python3.10/dist-packages/torch/nn/modules/module.py\u001b[0m in \u001b[0;36m_wrapped_call_impl\u001b[0;34m(self, *args, **kwargs)\u001b[0m\n\u001b[1;32m   1509\u001b[0m             \u001b[0;32mreturn\u001b[0m \u001b[0mself\u001b[0m\u001b[0;34m.\u001b[0m\u001b[0m_compiled_call_impl\u001b[0m\u001b[0;34m(\u001b[0m\u001b[0;34m*\u001b[0m\u001b[0margs\u001b[0m\u001b[0;34m,\u001b[0m \u001b[0;34m**\u001b[0m\u001b[0mkwargs\u001b[0m\u001b[0;34m)\u001b[0m  \u001b[0;31m# type: ignore[misc]\u001b[0m\u001b[0;34m\u001b[0m\u001b[0;34m\u001b[0m\u001b[0m\n\u001b[1;32m   1510\u001b[0m         \u001b[0;32melse\u001b[0m\u001b[0;34m:\u001b[0m\u001b[0;34m\u001b[0m\u001b[0;34m\u001b[0m\u001b[0m\n\u001b[0;32m-> 1511\u001b[0;31m             \u001b[0;32mreturn\u001b[0m \u001b[0mself\u001b[0m\u001b[0;34m.\u001b[0m\u001b[0m_call_impl\u001b[0m\u001b[0;34m(\u001b[0m\u001b[0;34m*\u001b[0m\u001b[0margs\u001b[0m\u001b[0;34m,\u001b[0m \u001b[0;34m**\u001b[0m\u001b[0mkwargs\u001b[0m\u001b[0;34m)\u001b[0m\u001b[0;34m\u001b[0m\u001b[0;34m\u001b[0m\u001b[0m\n\u001b[0m\u001b[1;32m   1512\u001b[0m \u001b[0;34m\u001b[0m\u001b[0m\n\u001b[1;32m   1513\u001b[0m     \u001b[0;32mdef\u001b[0m \u001b[0m_call_impl\u001b[0m\u001b[0;34m(\u001b[0m\u001b[0mself\u001b[0m\u001b[0;34m,\u001b[0m \u001b[0;34m*\u001b[0m\u001b[0margs\u001b[0m\u001b[0;34m,\u001b[0m \u001b[0;34m**\u001b[0m\u001b[0mkwargs\u001b[0m\u001b[0;34m)\u001b[0m\u001b[0;34m:\u001b[0m\u001b[0;34m\u001b[0m\u001b[0;34m\u001b[0m\u001b[0m\n",
            "\u001b[0;32m/usr/local/lib/python3.10/dist-packages/torch/nn/modules/module.py\u001b[0m in \u001b[0;36m_call_impl\u001b[0;34m(self, *args, **kwargs)\u001b[0m\n\u001b[1;32m   1518\u001b[0m                 \u001b[0;32mor\u001b[0m \u001b[0m_global_backward_pre_hooks\u001b[0m \u001b[0;32mor\u001b[0m \u001b[0m_global_backward_hooks\u001b[0m\u001b[0;34m\u001b[0m\u001b[0;34m\u001b[0m\u001b[0m\n\u001b[1;32m   1519\u001b[0m                 or _global_forward_hooks or _global_forward_pre_hooks):\n\u001b[0;32m-> 1520\u001b[0;31m             \u001b[0;32mreturn\u001b[0m \u001b[0mforward_call\u001b[0m\u001b[0;34m(\u001b[0m\u001b[0;34m*\u001b[0m\u001b[0margs\u001b[0m\u001b[0;34m,\u001b[0m \u001b[0;34m**\u001b[0m\u001b[0mkwargs\u001b[0m\u001b[0;34m)\u001b[0m\u001b[0;34m\u001b[0m\u001b[0;34m\u001b[0m\u001b[0m\n\u001b[0m\u001b[1;32m   1521\u001b[0m \u001b[0;34m\u001b[0m\u001b[0m\n\u001b[1;32m   1522\u001b[0m         \u001b[0;32mtry\u001b[0m\u001b[0;34m:\u001b[0m\u001b[0;34m\u001b[0m\u001b[0;34m\u001b[0m\u001b[0m\n",
            "\u001b[0;32m/usr/local/lib/python3.10/dist-packages/torch/nn/modules/linear.py\u001b[0m in \u001b[0;36mforward\u001b[0;34m(self, input)\u001b[0m\n\u001b[1;32m    114\u001b[0m \u001b[0;34m\u001b[0m\u001b[0m\n\u001b[1;32m    115\u001b[0m     \u001b[0;32mdef\u001b[0m \u001b[0mforward\u001b[0m\u001b[0;34m(\u001b[0m\u001b[0mself\u001b[0m\u001b[0;34m,\u001b[0m \u001b[0minput\u001b[0m\u001b[0;34m:\u001b[0m \u001b[0mTensor\u001b[0m\u001b[0;34m)\u001b[0m \u001b[0;34m->\u001b[0m \u001b[0mTensor\u001b[0m\u001b[0;34m:\u001b[0m\u001b[0;34m\u001b[0m\u001b[0;34m\u001b[0m\u001b[0m\n\u001b[0;32m--> 116\u001b[0;31m         \u001b[0;32mreturn\u001b[0m \u001b[0mF\u001b[0m\u001b[0;34m.\u001b[0m\u001b[0mlinear\u001b[0m\u001b[0;34m(\u001b[0m\u001b[0minput\u001b[0m\u001b[0;34m,\u001b[0m \u001b[0mself\u001b[0m\u001b[0;34m.\u001b[0m\u001b[0mweight\u001b[0m\u001b[0;34m,\u001b[0m \u001b[0mself\u001b[0m\u001b[0;34m.\u001b[0m\u001b[0mbias\u001b[0m\u001b[0;34m)\u001b[0m\u001b[0;34m\u001b[0m\u001b[0;34m\u001b[0m\u001b[0m\n\u001b[0m\u001b[1;32m    117\u001b[0m \u001b[0;34m\u001b[0m\u001b[0m\n\u001b[1;32m    118\u001b[0m     \u001b[0;32mdef\u001b[0m \u001b[0mextra_repr\u001b[0m\u001b[0;34m(\u001b[0m\u001b[0mself\u001b[0m\u001b[0;34m)\u001b[0m \u001b[0;34m->\u001b[0m \u001b[0mstr\u001b[0m\u001b[0;34m:\u001b[0m\u001b[0;34m\u001b[0m\u001b[0;34m\u001b[0m\u001b[0m\n",
            "\u001b[0;31mRuntimeError\u001b[0m: mat1 and mat2 shapes cannot be multiplied (4096x4 and 12544x120)"
          ]
        }
      ]
    }
  ]
}